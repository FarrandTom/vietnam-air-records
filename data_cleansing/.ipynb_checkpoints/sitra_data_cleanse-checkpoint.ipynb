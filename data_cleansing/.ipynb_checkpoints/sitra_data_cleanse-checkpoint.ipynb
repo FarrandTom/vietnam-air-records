{
 "cells": [
  {
   "cell_type": "code",
   "execution_count": 1,
   "metadata": {},
   "outputs": [],
   "source": [
    "#%%\n",
    "import pandas as pd\n",
    "import numpy as np\n",
    "from tqdm.notebook import trange, tqdm\n",
    "import folium\n",
    "from folium import plugins"
   ]
  },
  {
   "cell_type": "code",
   "execution_count": 3,
   "metadata": {},
   "outputs": [
    {
     "data": {
      "text/html": [
       "<div>\n",
       "<style scoped>\n",
       "    .dataframe tbody tr th:only-of-type {\n",
       "        vertical-align: middle;\n",
       "    }\n",
       "\n",
       "    .dataframe tbody tr th {\n",
       "        vertical-align: top;\n",
       "    }\n",
       "\n",
       "    .dataframe thead th {\n",
       "        text-align: right;\n",
       "    }\n",
       "</style>\n",
       "<table border=\"1\" class=\"dataframe\">\n",
       "  <thead>\n",
       "    <tr style=\"text-align: right;\">\n",
       "      <th></th>\n",
       "      <th>0</th>\n",
       "    </tr>\n",
       "  </thead>\n",
       "  <tbody>\n",
       "    <tr>\n",
       "      <th>0</th>\n",
       "      <td>660520W003   VS                           6715...</td>\n",
       "    </tr>\n",
       "    <tr>\n",
       "      <th>1</th>\n",
       "      <td>660731SC0111MVS                           6712...</td>\n",
       "    </tr>\n",
       "    <tr>\n",
       "      <th>2</th>\n",
       "      <td>660731SC0113AVS                           6712...</td>\n",
       "    </tr>\n",
       "    <tr>\n",
       "      <th>3</th>\n",
       "      <td>660731SC0113AVS                           6712...</td>\n",
       "    </tr>\n",
       "    <tr>\n",
       "      <th>4</th>\n",
       "      <td>660731SC0113AVS                           6712...</td>\n",
       "    </tr>\n",
       "    <tr>\n",
       "      <th>...</th>\n",
       "      <td>...</td>\n",
       "    </tr>\n",
       "    <tr>\n",
       "      <th>239971</th>\n",
       "      <td>681228W004  BVS                           6915...</td>\n",
       "    </tr>\n",
       "    <tr>\n",
       "      <th>239972</th>\n",
       "      <td>681228W004  BVS                           6915...</td>\n",
       "    </tr>\n",
       "    <tr>\n",
       "      <th>239973</th>\n",
       "      <td>681228W004  BVS                           6915...</td>\n",
       "    </tr>\n",
       "    <tr>\n",
       "      <th>239974</th>\n",
       "      <td>681228W004  BVS                           6915...</td>\n",
       "    </tr>\n",
       "    <tr>\n",
       "      <th>239975</th>\n",
       "      <td>681228W004  BVS                           6915...</td>\n",
       "    </tr>\n",
       "  </tbody>\n",
       "</table>\n",
       "<p>239976 rows × 1 columns</p>\n",
       "</div>"
      ],
      "text/plain": [
       "                                                        0\n",
       "0       660520W003   VS                           6715...\n",
       "1       660731SC0111MVS                           6712...\n",
       "2       660731SC0113AVS                           6712...\n",
       "3       660731SC0113AVS                           6712...\n",
       "4       660731SC0113AVS                           6712...\n",
       "...                                                   ...\n",
       "239971  681228W004  BVS                           6915...\n",
       "239972  681228W004  BVS                           6915...\n",
       "239973  681228W004  BVS                           6915...\n",
       "239974  681228W004  BVS                           6915...\n",
       "239975  681228W004  BVS                           6915...\n",
       "\n",
       "[239976 rows x 1 columns]"
      ]
     },
     "execution_count": 3,
     "metadata": {},
     "output_type": "execute_result"
    }
   ],
   "source": [
    "# Layout of the columns\n",
    "layout_df = pd.read_csv('/Users/thomas.farrandibm.com/Documents/GitHub/vietnam_air_records/data/SITRA/SITRA.TR.6668',\n",
    "                        delimiter='\\t',\n",
    "                        skipinitialspace=True,\n",
    "                        header=None)\n",
    "layout_df"
   ]
  },
  {
   "cell_type": "code",
   "execution_count": null,
   "metadata": {},
   "outputs": [],
   "source": []
  }
 ],
 "metadata": {
  "kernelspec": {
   "display_name": "vietnam",
   "language": "python",
   "name": "vietnam"
  },
  "language_info": {
   "codemirror_mode": {
    "name": "ipython",
    "version": 3
   },
   "file_extension": ".py",
   "mimetype": "text/x-python",
   "name": "python",
   "nbconvert_exporter": "python",
   "pygments_lexer": "ipython3",
   "version": "3.6.7"
  }
 },
 "nbformat": 4,
 "nbformat_minor": 4
}
